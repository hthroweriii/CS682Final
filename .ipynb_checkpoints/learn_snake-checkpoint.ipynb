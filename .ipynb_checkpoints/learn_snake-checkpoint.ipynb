{
 "cells": [
  {
   "cell_type": "code",
   "execution_count": 1,
   "metadata": {
    "collapsed": false
   },
   "outputs": [
    {
     "name": "stdout",
     "output_type": "stream",
     "text": [
      "Populating the interactive namespace from numpy and matplotlib\n"
     ]
    }
   ],
   "source": [
    "%pylab inline\n",
    "import numpy as np\n",
    "from sklearn import datasets "
   ]
  },
  {
   "cell_type": "code",
   "execution_count": 2,
   "metadata": {
    "collapsed": true
   },
   "outputs": [],
   "source": [
    "class Linear(object):\n",
    "    def __init__(self, n_in, n_out):\n",
    "        self.W = np.random.randn(n_out, n_in)\n",
    "        self.b = np.random.randn(n_out)\n",
    "        \n",
    "        self.input = np.zeros(n_in)\n",
    "        self.output = np.zeros(n_out)\n",
    "        \n",
    "        self.gradInput = np.zeros_like(self.input)\n",
    "        self.gradW = np.zeros_like(self.W)\n",
    "        self.gradb = np.zeros_like(self.b)\n",
    "        \n",
    "    def updateOutput(self, input):\n",
    "        self.input = input\n",
    "        self.output = np.dot(self.W, input) + self.b\n",
    "        return self.output\n",
    "    \n",
    "    def updateGradInput(self, gradOutput):\n",
    "        self.gradInput = np.dot(self.W.T, gradOutput)\n",
    "        return self.gradInput\n",
    "    \n",
    "    def updateGradWeight(self, gradOutput):\n",
    "        self.gradW = np.outer(gradOutput, self.input)\n",
    "        self.gradb = gradOutput\n",
    "        self.gradWeight = self.gradW, self.gradb\n",
    "        \n",
    "        return self.gradWeight"
   ]
  },
  {
   "cell_type": "code",
   "execution_count": 3,
   "metadata": {
    "collapsed": true
   },
   "outputs": [],
   "source": [
    "class Sigmoid(object):\n",
    "    def __init__(self, n_in):\n",
    "        self.input = np.zeros(n_in)\n",
    "        self.output = np.zeros(n_in)\n",
    "        self.gradInput = np.zeros_like(self.input)\n",
    "        \n",
    "    def updateOutput(self, input):\n",
    "        self.input = input\n",
    "        self.output = 1.0 / (1.0 + np.exp(-input))\n",
    "        return self.output\n",
    "    \n",
    "    def updateGradInput(self, gradOutput):\n",
    "        self.gradInput = gradOutput * self.output * (1.0 - self.output)\n",
    "        return self.gradInput\n",
    "    \n",
    "    def updateGradWeight(self, gradOutput):\n",
    "        self.gradWeight = ()\n",
    "        return self.gradWeight"
   ]
  },
  {
   "cell_type": "code",
   "execution_count": 4,
   "metadata": {
    "collapsed": true
   },
   "outputs": [],
   "source": [
    "class Softmax(object):\n",
    "    def __init__(self, n_in):\n",
    "        self.output = np.zeros(n_in)\n",
    "    \n",
    "    def updateOutput(self, input):\n",
    "        mx = input.max()\n",
    "        logsum = np.exp(-(mx - input)).sum()\n",
    "        logsum = mx + log(logsum)\n",
    "        self.output = input - logsum\n",
    "        \n",
    "        return self.output\n",
    "    \n",
    "    def updateGradInput(self, gradOutput):\n",
    "        sm = gradOutput.sum()\n",
    "        self.gradInput = gradOutput - np.exp(self.output) * sm\n",
    "        return self.gradInput\n",
    "    \n",
    "    def updateGradWeight(self, gradOutput):\n",
    "        self.gradWeight = ()\n",
    "        return self.gradWeight"
   ]
  },
  {
   "cell_type": "code",
   "execution_count": 5,
   "metadata": {
    "collapsed": true
   },
   "outputs": [],
   "source": [
    "class MSELoss(object):\n",
    "    def __init__(self, n_in):\n",
    "        self.n_in = n_in\n",
    "        self.output = 0.0\n",
    "        self.input = np.zeros(n_in)\n",
    "        \n",
    "    def updateOutput(self, input, target):\n",
    "        self.output = (1.0 / self.n_in) *np.sum((input - target)**2)\n",
    "        return self.output\n",
    "    \n",
    "    def updateGradInput(self, input, target):\n",
    "        self.gradInput = (2.0 / self.n_in) * (input - target)\n",
    "        return self.gradInput"
   ]
  },
  {
   "cell_type": "code",
   "execution_count": 6,
   "metadata": {
    "collapsed": true
   },
   "outputs": [],
   "source": [
    "class NLLLoss(object):\n",
    "    def __init__(self, n_in):\n",
    "        self.n_in = n_in\n",
    "        \n",
    "    def updateOutput(self, input, target):\n",
    "        self.output = -input[target]\n",
    "        return self.output\n",
    "    \n",
    "    def updateGradInput(self, input, target):\n",
    "        self.gradInput = np.zeros_like(input)\n",
    "        self.gradInput[target] = -1.0\n",
    "        return self.gradInput"
   ]
  },
  {
   "cell_type": "code",
   "execution_count": 7,
   "metadata": {
    "collapsed": true
   },
   "outputs": [],
   "source": [
    "class MLP(object):\n",
    "    def __init__(self, n_in, n_out):\n",
    "        self.modules = []\n",
    "        self.input = np.zeros(n_in)\n",
    "        self.output = np.zeros(n_out)\n",
    "        self.gradInput = np.zeros_like(self.input)\n",
    "        self.gradients = []\n",
    "        \n",
    "    def add(self, module):\n",
    "        self.modules.append(module)\n",
    "        \n",
    "    def forward(self, input):\n",
    "        self.input = input\n",
    "        self.output = input\n",
    "        for m in self.modules:\n",
    "            self.output = m.updateOutput(self.output)\n",
    "        return self.output\n",
    "    \n",
    "    def backward(self, gradOutput):\n",
    "        for m in reversed(self.modules):\n",
    "            self.gradients.insert(0, m.updateGradWeight(gradOutput))\n",
    "            gradOutput = m.updateGradInput(gradOutput)\n",
    "        return self.gradients\n",
    "    \n",
    "    def predict(self, input):\n",
    "        out = self.forward(input).argmax()\n",
    "        return out\n",
    "        #if out <= 0.5:\n",
    "        #    return 0\n",
    "        #return 1"
   ]
  },
  {
   "cell_type": "code",
   "execution_count": 8,
   "metadata": {
    "collapsed": true
   },
   "outputs": [],
   "source": [
    "playSnake = MLP(2, 1)\n",
    "playSnake.add(Linear(103,1000))\n",
    "playSnake.add(Sigmoid(1000))\n",
    "playSnake.add(Linear(1000,4))\n",
    "playSnake.add(Softmax(4))\n",
    "criterion = NLLLoss(103)"
   ]
  },
  {
   "cell_type": "code",
   "execution_count": null,
   "metadata": {
    "collapsed": true
   },
   "outputs": [],
   "source": [
    "#load in data set from file and separate into training/validation/test"
   ]
  },
  {
   "cell_type": "code",
   "execution_count": null,
   "metadata": {
    "collapsed": true
   },
   "outputs": [],
   "source": [
    "def train(trainData, targetOutput, playSnake, criterion):\n",
    "    for i in range(0,10):\n",
    "        for j in range(trainData.shape[0]):\n",
    "            prediction = playSnake.forward(trainData[j])\n",
    "            err = criterion.updateOutput(prediction, targetOutput[j])\n",
    "            df_do = criterion.updateGradInput(prediction, targetOutput[j])\n",
    "            grads = playSnake.backward(df_do)\n",
    "\n",
    "            for k,m in enumerate(playSnake.modules):\n",
    "                if m.gradWeight != ():\n",
    "                    m.W -= 1e-3 * grads[k][0]\n",
    "                    m.b -= 1e-3 * grads[k][1]"
   ]
  },
  {
   "cell_type": "code",
   "execution_count": 1,
   "metadata": {
    "collapsed": false
   },
   "outputs": [
    {
     "name": "stdout",
     "output_type": "stream",
     "text": [
      "[0, 1, 2, 3, 4, 5, 6, 7, 8, 9]\n",
      "[0, 1, 2, 3, 4, 5, 6, 7, 8]\n"
     ]
    }
   ],
   "source": [
    "arr = [0,1,2,3,4,5,6,7,8,9]\n",
    "print arr\n",
    "print arr[0:-1]"
   ]
  },
  {
   "cell_type": "code",
   "execution_count": null,
   "metadata": {
    "collapsed": true
   },
   "outputs": [],
   "source": []
  }
 ],
 "metadata": {
  "kernelspec": {
   "display_name": "Python 2",
   "language": "python",
   "name": "python2"
  },
  "language_info": {
   "codemirror_mode": {
    "name": "ipython",
    "version": 2
   },
   "file_extension": ".py",
   "mimetype": "text/x-python",
   "name": "python",
   "nbconvert_exporter": "python",
   "pygments_lexer": "ipython2",
   "version": "2.7.10"
  }
 },
 "nbformat": 4,
 "nbformat_minor": 0
}
