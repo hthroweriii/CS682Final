{
 "cells": [
  {
   "cell_type": "code",
   "execution_count": 37,
   "metadata": {
    "collapsed": false
   },
   "outputs": [
    {
     "name": "stdout",
     "output_type": "stream",
     "text": [
      "Populating the interactive namespace from numpy and matplotlib\n"
     ]
    }
   ],
   "source": [
    "%pylab inline\n",
    "import numpy as np\n",
    "from sklearn import datasets "
   ]
  },
  {
   "cell_type": "code",
   "execution_count": 38,
   "metadata": {
    "collapsed": false
   },
   "outputs": [],
   "source": [
    "class Linear(object):\n",
    "    def __init__(self, n_in, n_out):\n",
    "        self.W = np.random.randn(n_out, n_in)\n",
    "        self.b = np.random.randn(n_out)\n",
    "        \n",
    "        self.input = np.zeros(n_in)\n",
    "        self.output = np.zeros(n_out)\n",
    "        \n",
    "        self.gradInput = np.zeros_like(self.input)\n",
    "        self.gradW = np.zeros_like(self.W)\n",
    "        self.gradb = np.zeros_like(self.b)\n",
    "        \n",
    "    def updateOutput(self, input):\n",
    "        self.input = input\n",
    "        self.output = np.dot(self.W, input) + self.b\n",
    "        return self.output\n",
    "    \n",
    "    def updateGradInput(self, gradOutput):\n",
    "        self.gradInput = np.dot(self.W.T, gradOutput)\n",
    "        return self.gradInput\n",
    "    \n",
    "    def updateGradWeight(self, gradOutput):\n",
    "        self.gradW = np.outer(gradOutput, self.input)\n",
    "        self.gradb = gradOutput\n",
    "        self.gradWeight = self.gradW, self.gradb\n",
    "        \n",
    "        return self.gradWeight"
   ]
  },
  {
   "cell_type": "code",
   "execution_count": 39,
   "metadata": {
    "collapsed": true
   },
   "outputs": [],
   "source": [
    "class Sigmoid(object):\n",
    "    def __init__(self, n_in):\n",
    "        self.input = np.zeros(n_in)\n",
    "        self.output = np.zeros(n_in)\n",
    "        self.gradInput = np.zeros_like(self.input)\n",
    "        \n",
    "    def updateOutput(self, input):\n",
    "        self.input = input\n",
    "        self.output = 1.0 / (1.0 + np.exp(-input))\n",
    "        return self.output\n",
    "    \n",
    "    def updateGradInput(self, gradOutput):\n",
    "        self.gradInput = gradOutput * self.output * (1.0 - self.output)\n",
    "        return self.gradInput\n",
    "    \n",
    "    def updateGradWeight(self, gradOutput):\n",
    "        self.gradWeight = ()\n",
    "        return self.gradWeight"
   ]
  },
  {
   "cell_type": "code",
   "execution_count": 40,
   "metadata": {
    "collapsed": true
   },
   "outputs": [],
   "source": [
    "class Softmax(object):\n",
    "    def __init__(self, n_in):\n",
    "        self.output = np.zeros(n_in)\n",
    "    \n",
    "    def updateOutput(self, input):\n",
    "        mx = input.max()\n",
    "        logsum = np.exp(-(mx - input)).sum()\n",
    "        logsum = mx + log(logsum)\n",
    "        self.output = input - logsum\n",
    "        \n",
    "        return self.output\n",
    "    \n",
    "    def updateGradInput(self, gradOutput):\n",
    "        sm = gradOutput.sum()\n",
    "        self.gradInput = gradOutput - np.exp(self.output) * sm\n",
    "        return self.gradInput\n",
    "    \n",
    "    def updateGradWeight(self, gradOutput):\n",
    "        self.gradWeight = ()\n",
    "        return self.gradWeight"
   ]
  },
  {
   "cell_type": "code",
   "execution_count": 41,
   "metadata": {
    "collapsed": false
   },
   "outputs": [],
   "source": [
    "class MSELoss(object):\n",
    "    def __init__(self, n_in):\n",
    "        self.n_in = n_in\n",
    "        self.output = 0.0\n",
    "        self.input = np.zeros(n_in)\n",
    "        \n",
    "    def updateOutput(self, input, target):\n",
    "        self.output = (1.0 / self.n_in) *np.sum((input - target)**2)\n",
    "        return self.output\n",
    "    \n",
    "    def updateGradInput(self, input, target):\n",
    "        self.gradInput = (2.0 / self.n_in) * (input - target)\n",
    "        return self.gradInput"
   ]
  },
  {
   "cell_type": "code",
   "execution_count": 42,
   "metadata": {
    "collapsed": true
   },
   "outputs": [],
   "source": [
    "class NLLLoss(object):\n",
    "    def __init__(self, n_in):\n",
    "        self.n_in = n_in\n",
    "        \n",
    "    def updateOutput(self, input, target):\n",
    "        self.output = -input[target]\n",
    "        return self.output\n",
    "    \n",
    "    def updateGradInput(self, input, target):\n",
    "        self.gradInput = np.zeros_like(input)\n",
    "        self.gradInput[target] = -1.0\n",
    "        return self.gradInput"
   ]
  },
  {
   "cell_type": "code",
   "execution_count": 43,
   "metadata": {
    "collapsed": true
   },
   "outputs": [],
   "source": [
    "class MLP(object):\n",
    "    def __init__(self, n_in, n_out):\n",
    "        self.modules = []\n",
    "        self.input = np.zeros(n_in)\n",
    "        self.output = np.zeros(n_out)\n",
    "        self.gradInput = np.zeros_like(self.input)\n",
    "        self.gradients = []\n",
    "        \n",
    "    def add(self, module):\n",
    "        self.modules.append(module)\n",
    "        \n",
    "    def forward(self, input):\n",
    "        self.input = input\n",
    "        self.output = input\n",
    "        for m in self.modules:\n",
    "            self.output = m.updateOutput(self.output)\n",
    "        return self.output\n",
    "    \n",
    "    def backward(self, gradOutput):\n",
    "        for m in reversed(self.modules):\n",
    "            self.gradients.insert(0, m.updateGradWeight(gradOutput))\n",
    "            gradOutput = m.updateGradInput(gradOutput)\n",
    "        return self.gradients\n",
    "    \n",
    "    def predict(self, input):\n",
    "        out = self.forward(input).argmax()\n",
    "        return out\n",
    "        #if out <= 0.5:\n",
    "        #    return 0\n",
    "        #return 1"
   ]
  },
  {
   "cell_type": "code",
   "execution_count": 44,
   "metadata": {
    "collapsed": false
   },
   "outputs": [],
   "source": [
    "model = MLP(2, 1)\n",
    "model.add(Linear(2,1000))\n",
    "model.add(Sigmoid(1000))\n",
    "model.add(Linear(1000,3))\n",
    "model.add(Softmax(3))\n",
    "criterion = NLLLoss(2)\n",
    "\n",
    "model2 = MLP(2, 1)\n",
    "model2.add(Linear(2,50))\n",
    "model2.add(Sigmoid(50))\n",
    "model2.add(Linear(50,3))\n",
    "model2.add(Softmax(3))\n",
    "criterion2 = NLLLoss(2)\n",
    "\n",
    "model3 = MLP(2, 1)\n",
    "model3.add(Linear(2,700))\n",
    "model3.add(Sigmoid(700))\n",
    "model3.add(Linear(700,3))\n",
    "model3.add(Softmax(3))\n",
    "criterion3 = NLLLoss(2)"
   ]
  },
  {
   "cell_type": "code",
   "execution_count": 45,
   "metadata": {
    "collapsed": false
   },
   "outputs": [
    {
     "data": {
      "text/plain": [
       "<matplotlib.collections.PathCollection at 0x7f19f428d090>"
      ]
     },
     "execution_count": 45,
     "metadata": {},
     "output_type": "execute_result"
    },
    {
     "data": {
      "image/png": "[encoded data removed]",
      "text/plain": [
       "<matplotlib.figure.Figure at 0x7f19f429a610>"
      ]
     },
     "metadata": {},
     "output_type": "display_data"
    }
   ],
   "source": [
    "(easy_x, easy_y) = datasets.make_classification(n_samples=1000, n_features = 2, n_classes = 4, n_informative = 2,\n",
    "                             n_redundant = 0, n_repeated = 0, n_clusters_per_class=1, class_sep=2)\n",
    "scatter(easy_x[:,0], easy_x[:,1], c = easy_y, cmap = 'cool')"
   ]
  },
  {
   "cell_type": "code",
   "execution_count": 46,
   "metadata": {
    "collapsed": true
   },
   "outputs": [],
   "source": [
    "# split data into different sets\n",
    "x_train = easy_x[0:500]\n",
    "y_train = easy_y[0:500]\n",
    "x_valid = easy_x[500:750]\n",
    "y_valid = easy_y[500:750]\n",
    "x_test = easy_x[750:1000]\n",
    "y_test = easy_y[750:1000]"
   ]
  },
  {
   "cell_type": "code",
   "execution_count": 47,
   "metadata": {
    "collapsed": false
   },
   "outputs": [
    {
     "ename": "IndexError",
     "evalue": "index 3 is out of bounds for axis 0 with size 3",
     "output_type": "error",
     "traceback": [
      "\u001b[1;31m---------------------------------------------------------------------------\u001b[0m",
      "\u001b[1;31mIndexError\u001b[0m                                Traceback (most recent call last)",
      "\u001b[1;32m<ipython-input-47-a9170982e91e>\u001b[0m in \u001b[0;36m<module>\u001b[1;34m()\u001b[0m\n\u001b[0;32m     13\u001b[0m                     \u001b[0mm\u001b[0m\u001b[1;33m.\u001b[0m\u001b[0mb\u001b[0m \u001b[1;33m-=\u001b[0m \u001b[1;36m1e-3\u001b[0m \u001b[1;33m*\u001b[0m \u001b[0mgrads\u001b[0m\u001b[1;33m[\u001b[0m\u001b[0mk\u001b[0m\u001b[1;33m]\u001b[0m\u001b[1;33m[\u001b[0m\u001b[1;36m1\u001b[0m\u001b[1;33m]\u001b[0m\u001b[1;33m\u001b[0m\u001b[0m\n\u001b[0;32m     14\u001b[0m \u001b[1;33m\u001b[0m\u001b[0m\n\u001b[1;32m---> 15\u001b[1;33m \u001b[0mtrain\u001b[0m\u001b[1;33m(\u001b[0m\u001b[0mmodel\u001b[0m\u001b[1;33m,\u001b[0m\u001b[0mcriterion\u001b[0m\u001b[1;33m)\u001b[0m\u001b[1;33m\u001b[0m\u001b[0m\n\u001b[0m\u001b[0;32m     16\u001b[0m \u001b[1;32mprint\u001b[0m \u001b[1;34m\"model 1 trained\"\u001b[0m\u001b[1;33m\u001b[0m\u001b[0m\n\u001b[0;32m     17\u001b[0m \u001b[0mtrain\u001b[0m\u001b[1;33m(\u001b[0m\u001b[0mmodel2\u001b[0m\u001b[1;33m,\u001b[0m \u001b[0mcriterion2\u001b[0m\u001b[1;33m)\u001b[0m\u001b[1;33m\u001b[0m\u001b[0m\n",
      "\u001b[1;32m<ipython-input-47-a9170982e91e>\u001b[0m in \u001b[0;36mtrain\u001b[1;34m(model, criterion)\u001b[0m\n\u001b[0;32m      4\u001b[0m         \u001b[1;32mfor\u001b[0m \u001b[0mj\u001b[0m \u001b[1;32min\u001b[0m \u001b[0mrange\u001b[0m\u001b[1;33m(\u001b[0m\u001b[0mx_train\u001b[0m\u001b[1;33m.\u001b[0m\u001b[0mshape\u001b[0m\u001b[1;33m[\u001b[0m\u001b[1;36m0\u001b[0m\u001b[1;33m]\u001b[0m\u001b[1;33m)\u001b[0m\u001b[1;33m:\u001b[0m\u001b[1;33m\u001b[0m\u001b[0m\n\u001b[0;32m      5\u001b[0m             \u001b[0mprediction\u001b[0m \u001b[1;33m=\u001b[0m \u001b[0mmodel\u001b[0m\u001b[1;33m.\u001b[0m\u001b[0mforward\u001b[0m\u001b[1;33m(\u001b[0m\u001b[0mx_train\u001b[0m\u001b[1;33m[\u001b[0m\u001b[0mj\u001b[0m\u001b[1;33m]\u001b[0m\u001b[1;33m)\u001b[0m\u001b[1;33m\u001b[0m\u001b[0m\n\u001b[1;32m----> 6\u001b[1;33m             \u001b[0merr\u001b[0m \u001b[1;33m=\u001b[0m \u001b[0mcriterion\u001b[0m\u001b[1;33m.\u001b[0m\u001b[0mupdateOutput\u001b[0m\u001b[1;33m(\u001b[0m\u001b[0mprediction\u001b[0m\u001b[1;33m,\u001b[0m \u001b[0my_train\u001b[0m\u001b[1;33m[\u001b[0m\u001b[0mj\u001b[0m\u001b[1;33m]\u001b[0m\u001b[1;33m)\u001b[0m\u001b[1;33m\u001b[0m\u001b[0m\n\u001b[0m\u001b[0;32m      7\u001b[0m             \u001b[0mdf_do\u001b[0m \u001b[1;33m=\u001b[0m \u001b[0mcriterion\u001b[0m\u001b[1;33m.\u001b[0m\u001b[0mupdateGradInput\u001b[0m\u001b[1;33m(\u001b[0m\u001b[0mprediction\u001b[0m\u001b[1;33m,\u001b[0m \u001b[0my_train\u001b[0m\u001b[1;33m[\u001b[0m\u001b[0mj\u001b[0m\u001b[1;33m]\u001b[0m\u001b[1;33m)\u001b[0m\u001b[1;33m\u001b[0m\u001b[0m\n\u001b[0;32m      8\u001b[0m             \u001b[0mgrads\u001b[0m \u001b[1;33m=\u001b[0m \u001b[0mmodel\u001b[0m\u001b[1;33m.\u001b[0m\u001b[0mbackward\u001b[0m\u001b[1;33m(\u001b[0m\u001b[0mdf_do\u001b[0m\u001b[1;33m)\u001b[0m\u001b[1;33m\u001b[0m\u001b[0m\n",
      "\u001b[1;32m<ipython-input-42-3ea3fe74c092>\u001b[0m in \u001b[0;36mupdateOutput\u001b[1;34m(self, input, target)\u001b[0m\n\u001b[0;32m      4\u001b[0m \u001b[1;33m\u001b[0m\u001b[0m\n\u001b[0;32m      5\u001b[0m     \u001b[1;32mdef\u001b[0m \u001b[0mupdateOutput\u001b[0m\u001b[1;33m(\u001b[0m\u001b[0mself\u001b[0m\u001b[1;33m,\u001b[0m \u001b[0minput\u001b[0m\u001b[1;33m,\u001b[0m \u001b[0mtarget\u001b[0m\u001b[1;33m)\u001b[0m\u001b[1;33m:\u001b[0m\u001b[1;33m\u001b[0m\u001b[0m\n\u001b[1;32m----> 6\u001b[1;33m         \u001b[0mself\u001b[0m\u001b[1;33m.\u001b[0m\u001b[0moutput\u001b[0m \u001b[1;33m=\u001b[0m \u001b[1;33m-\u001b[0m\u001b[0minput\u001b[0m\u001b[1;33m[\u001b[0m\u001b[0mtarget\u001b[0m\u001b[1;33m]\u001b[0m\u001b[1;33m\u001b[0m\u001b[0m\n\u001b[0m\u001b[0;32m      7\u001b[0m         \u001b[1;32mreturn\u001b[0m \u001b[0mself\u001b[0m\u001b[1;33m.\u001b[0m\u001b[0moutput\u001b[0m\u001b[1;33m\u001b[0m\u001b[0m\n\u001b[0;32m      8\u001b[0m \u001b[1;33m\u001b[0m\u001b[0m\n",
      "\u001b[1;31mIndexError\u001b[0m: index 3 is out of bounds for axis 0 with size 3"
     ]
    }
   ],
   "source": [
    "# training function\n",
    "def train(model, criterion):\n",
    "    for i in range(10):\n",
    "        for j in range(x_train.shape[0]):\n",
    "            prediction = model.forward(x_train[j])\n",
    "            err = criterion.updateOutput(prediction, y_train[j])\n",
    "            df_do = criterion.updateGradInput(prediction, y_train[j])\n",
    "            grads = model.backward(df_do)\n",
    "\n",
    "            for k,m in enumerate(model.modules):\n",
    "                if m.gradWeight != ():\n",
    "                    m.W -= 1e-3 * grads[k][0]\n",
    "                    m.b -= 1e-3 * grads[k][1]\n",
    "                    \n",
    "train(model,criterion)\n",
    "print \"model 1 trained\"\n",
    "train(model2, criterion2)\n",
    "print \"model 2 trained\"\n",
    "train(model3, criterion3)\n",
    "print \"model 3 trained\""
   ]
  },
  {
   "cell_type": "code",
   "execution_count": null,
   "metadata": {
    "collapsed": false
   },
   "outputs": [],
   "source": [
    "# validation\n",
    "errorTotal = []\n",
    "err = 0\n",
    "for i in range(x_valid.shape[0]):\n",
    "    prediction = model.forward(x_valid[i])\n",
    "    err += criterion.updateOutput(prediction, y_valid[i])\n",
    "            \n",
    "errorTotal.append(err)\n",
    "\n",
    "err = 0\n",
    "for i in range(x_valid.shape[0]):\n",
    "    prediction = model2.forward(x_valid[i])\n",
    "    err += criterion2.updateOutput(prediction, y_valid[i])\n",
    "            \n",
    "errorTotal.append(err)\n",
    "\n",
    "err = 0\n",
    "for i in range(x_valid.shape[0]):\n",
    "    prediction = model3.forward(x_valid[i])\n",
    "    err += criterion3.updateOutput(prediction, y_valid[i])\n",
    "            \n",
    "errorTotal.append(err)\n",
    "\n",
    "print errorTotal"
   ]
  },
  {
   "cell_type": "code",
   "execution_count": null,
   "metadata": {
    "collapsed": false
   },
   "outputs": [],
   "source": [
    "best = errorTotal.index(min(errorTotal))\n",
    "if best == 0:\n",
    "    print \"better model is model1\"\n",
    "    bestM = model\n",
    "elif best == 1:\n",
    "    print \"better model is model2\"\n",
    "    bestM = model2\n",
    "else:\n",
    "    print \"better model is model3\"\n",
    "    bestM = model3"
   ]
  },
  {
   "cell_type": "code",
   "execution_count": null,
   "metadata": {
    "collapsed": false
   },
   "outputs": [],
   "source": [
    "# report testing error\n",
    "err = 0\n",
    "for i in range(x_test.shape[0]):\n",
    "    prediction = bestM.forward(x_test[i])\n",
    "    err += criterion.updateOutput(prediction, y_test[i])\n",
    "    \n",
    "print \"total testing error for 'best' model: \", err"
   ]
  },
  {
   "cell_type": "code",
   "execution_count": null,
   "metadata": {
    "collapsed": false
   },
   "outputs": [],
   "source": [
    "h = 0.05 # mesh size\n",
    "x_min, x_max = easy_x[:, 0].min() - 1, easy_x[:,0].max() + 1\n",
    "y_min, y_max = easy_x[:, 1].min() - 1, easy_x[:,1].max() + 1\n",
    "xx, yy = np.meshgrid(np.arange(x_min, x_max, h), np.arange(y_min, y_max, h))\n",
    "Z = []\n",
    "for pt in np.c_[xx.ravel(), yy.ravel()]:\n",
    "    Z.append(bestM.predict(pt))\n",
    "Z = np.asarray(Z)\n",
    "Z = Z.reshape(xx.shape)\n",
    "figure()\n",
    "pcolormesh(xx,yy, Z, cmap='autumn')\n",
    "\n",
    "scatter(easy_x[:,0], easy_x[:,1], c=easy_y, cmap='autumn')"
   ]
  },
  {
   "cell_type": "code",
   "execution_count": null,
   "metadata": {
    "collapsed": true
   },
   "outputs": [],
   "source": []
  },
  {
   "cell_type": "code",
   "execution_count": null,
   "metadata": {
    "collapsed": false
   },
   "outputs": [],
   "source": [
    "h = 0.05 # mesh size\n",
    "x_min, x_max = easy_x[:, 0].min() - 1, easy_x[:,0].max() + 1\n",
    "y_min, y_max = easy_x[:, 1].min() - 1, easy_x[:,1].max() + 1\n",
    "xx, yy = np.meshgrid(np.arange(x_min, x_max, h), np.arange(y_min, y_max, h))\n",
    "Z = []\n",
    "for pt in np.c_[xx.ravel(), yy.ravel()]:\n",
    "    Z.append(model.predict(pt))\n",
    "Z = np.asarray(Z)\n",
    "Z = Z.reshape(xx.shape)\n",
    "figure()\n",
    "pcolormesh(xx,yy, Z, cmap='winter')\n",
    "\n",
    "scatter(easy_x[:,0], easy_x[:,1], c=easy_y, cmap='winter')"
   ]
  },
  {
   "cell_type": "code",
   "execution_count": null,
   "metadata": {
    "collapsed": true
   },
   "outputs": [],
   "source": []
  },
  {
   "cell_type": "code",
   "execution_count": null,
   "metadata": {
    "collapsed": false
   },
   "outputs": [],
   "source": [
    "h = 0.05 # mesh size\n",
    "x_min, x_max = easy_x[:, 0].min() - 1, easy_x[:,0].max() + 1\n",
    "y_min, y_max = easy_x[:, 1].min() - 1, easy_x[:,1].max() + 1\n",
    "xx, yy = np.meshgrid(np.arange(x_min, x_max, h), np.arange(y_min, y_max, h))\n",
    "Z = []\n",
    "for pt in np.c_[xx.ravel(), yy.ravel()]:\n",
    "    Z.append(model2.predict(pt))\n",
    "Z = np.asarray(Z)\n",
    "Z = Z.reshape(xx.shape)\n",
    "figure()\n",
    "pcolormesh(xx,yy, Z, cmap='summer')\n",
    "\n",
    "scatter(easy_x[:,0], easy_x[:,1], c=easy_y, cmap='summer')"
   ]
  },
  {
   "cell_type": "code",
   "execution_count": null,
   "metadata": {
    "collapsed": true
   },
   "outputs": [],
   "source": []
  }
 ],
 "metadata": {
  "kernelspec": {
   "display_name": "Python 2",
   "language": "python",
   "name": "python2"
  },
  "language_info": {
   "codemirror_mode": {
    "name": "ipython",
    "version": 2
   },
   "file_extension": ".py",
   "mimetype": "text/x-python",
   "name": "python",
   "nbconvert_exporter": "python",
   "pygments_lexer": "ipython2",
   "version": "2.7.6"
  }
 },
 "nbformat": 4,
 "nbformat_minor": 0
}
